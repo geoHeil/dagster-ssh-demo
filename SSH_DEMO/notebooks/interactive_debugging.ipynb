{
 "cells": [
  {
   "cell_type": "code",
   "execution_count": 1,
   "metadata": {},
   "outputs": [],
   "source": [
    "from dagster import DagsterInstance\n",
    "instance = DagsterInstance.get() # needs your DAGSTER_HOME to be set\n"
   ]
  },
  {
   "cell_type": "code",
   "execution_count": 2,
   "metadata": {},
   "outputs": [
    {
     "name": "stdout",
     "output_type": "stream",
     "text": [
      "4\n"
     ]
    }
   ],
   "source": [
    "from dagster import PipelineRunStatus\n",
    "from dagster.core.storage.pipeline_run import PipelineRunsFilter\n",
    "\n",
    "print(len(instance.get_runs()))\n"
   ]
  },
  {
   "cell_type": "code",
   "execution_count": 9,
   "metadata": {},
   "outputs": [
    {
     "data": {
      "text/plain": [
       "EventLogRecord(storage_id=12, event_log_entry=EventLogEntry(error_info=None, level=10, user_message='Materialized value baz_asset.', run_id='7b59ae94-fa1b-446f-bdf9-8365be9bb435', timestamp=1650398991.959362, step_key='baz_asset', pipeline_name='all_assets', dagster_event=DagsterEvent(event_type_value='ASSET_MATERIALIZATION', pipeline_name='all_assets', step_handle=StepHandle(solid_handle=NodeHandle(name='baz_asset', parent=None), key='baz_asset'), solid_handle=NodeHandle(name='baz_asset', parent=None), step_kind_value='COMPUTE', logging_tags={'pipeline_name': 'all_assets', 'pipeline_tags': '{\\'.dagster/grpc_info\\': \\'{\"host\": \"localhost\", \"socket\": \"/var/folders/cx/tptc40fs3492df12b62dx_kr0000gn/T/tmp69foib_v\"}\\', \\'dagster/parent_run_id\\': \\'fba7f94b-827b-439d-a340-9edf73547bee\\', \\'dagster/partition\\': \\'2022-01-01\\', \\'dagster/partition_set\\': \\'all_assets_partition_set\\', \\'dagster/root_run_id\\': \\'9fbf43e9-f723-421f-bcea-f54445f76c99\\', \\'dagster/step_selection\\': \\'\"baz_asset\"\\'}', 'resource_fn_name': 'None', 'resource_name': 'None', 'run_id': '7b59ae94-fa1b-446f-bdf9-8365be9bb435', 'solid_name': 'baz_asset', 'step_key': 'baz_asset'}, event_specific_data=StepMaterializationData(materialization=AssetMaterialization(asset_key=AssetKey(['baz_asset']), description=None, metadata_entries=[MetadataEntry(label='row_count', description=None, entry_data=IntMetadataValue(value=2)), MetadataEntry(label='path', description=None, entry_data=PathMetadataValue(path='/Users/geoheil/development/tma/dagster/SSH_DEMO/warehouse_location/baz_asset/dt=20220101/baz_asset__20220101000000_20220102000000.parquet')), MetadataEntry(label='partition', description=None, entry_data=TextMetadataValue(text='20220101'))], partition='2022-01-01', tags={}), asset_lineage=[]), message='Materialized value baz_asset.', pid=69343, step_key='baz_asset')))"
      ]
     },
     "execution_count": 9,
     "metadata": {},
     "output_type": "execute_result"
    }
   ],
   "source": [
    "from dagster.core.storage.event_log import EventRecordsFilter\n",
    "from dagster import AssetKey, DagsterEventType\n",
    "\n",
    "a = instance.get_event_records(\n",
    "            EventRecordsFilter(\n",
    "                event_type=DagsterEventType.ASSET_MATERIALIZATION,\n",
    "                asset_key=AssetKey([\"baz_asset\"]),\n",
    "                asset_partitions=['2022-01-01']\n",
    "            ),\n",
    "            ascending=False,\n",
    "            limit=1,\n",
    "        )\n",
    "\n",
    "a = a[0]\n",
    "a"
   ]
  },
  {
   "cell_type": "code",
   "execution_count": 11,
   "metadata": {},
   "outputs": [
    {
     "data": {
      "text/plain": [
       "[MetadataEntry(label='row_count', description=None, entry_data=IntMetadataValue(value=2)),\n",
       " MetadataEntry(label='path', description=None, entry_data=PathMetadataValue(path='/Users/geoheil/development/tma/dagster/SSH_DEMO/warehouse_location/baz_asset/dt=20220101/baz_asset__20220101000000_20220102000000.parquet')),\n",
       " MetadataEntry(label='partition', description=None, entry_data=TextMetadataValue(text='20220101'))]"
      ]
     },
     "execution_count": 11,
     "metadata": {},
     "output_type": "execute_result"
    }
   ],
   "source": [
    "m = a.event_log_entry.dagster_event.step_materialization_data.materialization.metadata_entries\n",
    "m"
   ]
  },
  {
   "cell_type": "code",
   "execution_count": 19,
   "metadata": {},
   "outputs": [
    {
     "name": "stdout",
     "output_type": "stream",
     "text": [
      "MetadataEntry(label='row_count', description=None, entry_data=IntMetadataValue(value=2))\n",
      "MetadataEntry(label='path', description=None, entry_data=PathMetadataValue(path='/Users/geoheil/development/tma/dagster/SSH_DEMO/warehouse_location/baz_asset/dt=20220101/baz_asset__20220101000000_20220102000000.parquet'))\n",
      "MetadataEntry(label='partition', description=None, entry_data=TextMetadataValue(text='20220101'))\n",
      "***\n",
      "MetadataEntry(label='partition', description=None, entry_data=TextMetadataValue(text='20220101'))\n",
      "20220101\n",
      "***\n"
     ]
    }
   ],
   "source": [
    "for mm in m:\n",
    "    print(mm)\n",
    "    if mm.label == 'partition':\n",
    "        print('***')\n",
    "        print(mm)\n",
    "        print(mm.entry_data.text)\n",
    "        print('***')\n",
    "    mm.entry_data"
   ]
  },
  {
   "cell_type": "code",
   "execution_count": 18,
   "metadata": {},
   "outputs": [
    {
     "data": {
      "text/plain": [
       "'20220101'"
      ]
     },
     "execution_count": 18,
     "metadata": {},
     "output_type": "execute_result"
    }
   ],
   "source": [
    "m[2].entry_data.text"
   ]
  },
  {
   "cell_type": "code",
   "execution_count": null,
   "metadata": {},
   "outputs": [],
   "source": []
  }
 ],
 "metadata": {
  "kernelspec": {
   "display_name": "Python [conda env:dagster-ssh-demo]",
   "language": "python",
   "name": "conda-env-dagster-ssh-demo-py"
  },
  "language_info": {
   "codemirror_mode": {
    "name": "ipython",
    "version": 3
   },
   "file_extension": ".py",
   "mimetype": "text/x-python",
   "name": "python",
   "nbconvert_exporter": "python",
   "pygments_lexer": "ipython3",
   "version": "3.9.12"
  }
 },
 "nbformat": 4,
 "nbformat_minor": 4
}
