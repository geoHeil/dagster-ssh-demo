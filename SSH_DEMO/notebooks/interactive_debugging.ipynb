{
 "cells": [
  {
   "cell_type": "code",
   "execution_count": null,
   "metadata": {},
   "outputs": [],
   "source": [
    "from dagster import DagsterInstance\n",
    "instance = DagsterInstance.get() # needs your DAGSTER_HOME to be set\n"
   ]
  },
  {
   "cell_type": "code",
   "execution_count": null,
   "metadata": {},
   "outputs": [],
   "source": [
    "from dagster import PipelineRunStatus\n",
    "from dagster.core.storage.pipeline_run import PipelineRunsFilter\n",
    "\n",
    "print(len(instance.get_runs()))\n"
   ]
  },
  {
   "cell_type": "code",
   "execution_count": null,
   "metadata": {},
   "outputs": [],
   "source": [
    "from dagster.core.storage.event_log import EventRecordsFilter\n",
    "from dagster import AssetKey, DagsterEventType\n",
    "\n",
    "a = instance.get_event_records(\n",
    "            EventRecordsFilter(\n",
    "                event_type=DagsterEventType.ASSET_MATERIALIZATION,\n",
    "                asset_key=AssetKey([\"baz_asset\"]),\n",
    "                asset_partitions=['2022-01-01']\n",
    "            ),\n",
    "            ascending=False,\n",
    "            limit=1,\n",
    "        )\n",
    "\n",
    "a = a[0]\n",
    "a"
   ]
  },
  {
   "cell_type": "code",
   "execution_count": null,
   "metadata": {},
   "outputs": [],
   "source": [
    "len(a) > 0"
   ]
  },
  {
   "cell_type": "code",
   "execution_count": null,
   "metadata": {},
   "outputs": [],
   "source": [
    "m = a.event_log_entry.dagster_event.step_materialization_data.materialization.metadata_entries\n",
    "m"
   ]
  },
  {
   "cell_type": "code",
   "execution_count": null,
   "metadata": {},
   "outputs": [],
   "source": [
    "for mm in m:\n",
    "    print(mm)\n",
    "    if mm.label == 'partition':\n",
    "        print('***')\n",
    "        print(mm)\n",
    "        print(mm.entry_data.text)\n",
    "        print('***')\n",
    "    mm.entry_data"
   ]
  },
  {
   "cell_type": "code",
   "execution_count": null,
   "metadata": {},
   "outputs": [],
   "source": [
    "m[2].entry_data.text"
   ]
  },
  {
   "cell_type": "code",
   "execution_count": null,
   "metadata": {},
   "outputs": [],
   "source": [
    "a = instance.get_event_records(\n",
    "            EventRecordsFilter(\n",
    "                event_type=DagsterEventType.ASSET_MATERIALIZATION,\n",
    "                asset_key=AssetKey([\"foo_scd2_asset\"]),\n",
    "                #asset_partitions=['2022-01-01']\n",
    "            ),\n",
    "            ascending=False,\n",
    "            limit=1,\n",
    "        )\n",
    "\n",
    "a = a[0]\n",
    "a"
   ]
  },
  {
   "cell_type": "code",
   "execution_count": null,
   "metadata": {},
   "outputs": [],
   "source": [
    "info = a.event_log_entry.dagster_event.logging_tags['pipeline_tags']#[0]#['dagster/grpc_info']#['latest_partition']\n",
    "info"
   ]
  },
  {
   "cell_type": "code",
   "execution_count": null,
   "metadata": {},
   "outputs": [],
   "source": [
    "\n",
    "ast.literal_eval(info)['latest_partition']"
   ]
  },
  {
   "cell_type": "code",
   "execution_count": null,
   "metadata": {},
   "outputs": [],
   "source": [
    "m = a.event_log_entry.dagster_event.step_materialization_data.materialization.metadata_entries\n",
    "m"
   ]
  },
  {
   "cell_type": "code",
   "execution_count": null,
   "metadata": {},
   "outputs": [],
   "source": [
    "for mm in m:\n",
    "    print(mm)\n",
    "    if mm.label == 'latest_partition':\n",
    "        print('***')\n",
    "        print(mm)\n",
    "        print(mm.entry_data.text)\n",
    "        print('***')\n",
    "    #mm.entry_data"
   ]
  },
  {
   "cell_type": "code",
   "execution_count": null,
   "metadata": {},
   "outputs": [],
   "source": [
    "materialization = a.event_log_entry.dagster_event.event_specific_data.materialization\n",
    "latest_partition = [me for me in materialization.metadata_entries if me.label == \"latest_partition\"][0].entry_data.text\n",
    "latest_partition"
   ]
  },
  {
   "cell_type": "code",
   "execution_count": null,
   "metadata": {},
   "outputs": [],
   "source": []
  }
 ],
 "metadata": {
  "kernelspec": {
   "display_name": "Python [conda env:dagster-ssh-demo]",
   "language": "python",
   "name": "conda-env-dagster-ssh-demo-py"
  },
  "language_info": {
   "codemirror_mode": {
    "name": "ipython",
    "version": 3
   },
   "file_extension": ".py",
   "mimetype": "text/x-python",
   "name": "python",
   "nbconvert_exporter": "python",
   "pygments_lexer": "ipython3",
   "version": "3.9.12"
  }
 },
 "nbformat": 4,
 "nbformat_minor": 4
}
