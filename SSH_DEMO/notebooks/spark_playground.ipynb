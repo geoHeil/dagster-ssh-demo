{
 "cells": [
  {
   "cell_type": "code",
   "execution_count": null,
   "id": "0fe11e3b-9638-41ac-b0aa-a098b24c6a93",
   "metadata": {},
   "outputs": [],
   "source": [
    "python_path = !which python\n",
    "python_path = python_path[0]\n",
    "python_path"
   ]
  },
  {
   "cell_type": "code",
   "execution_count": null,
   "id": "5e8b5bdb-717a-4508-a87f-fd69928c9159",
   "metadata": {},
   "outputs": [],
   "source": [
    "import os\n",
    "os.environ['PYSPARK_PYTHON'] = python_path\n"
   ]
  },
  {
   "cell_type": "code",
   "execution_count": null,
   "id": "10b4dfd9-40ae-4c04-a822-02a77f82f908",
   "metadata": {},
   "outputs": [],
   "source": [
    "from pyspark.sql import SparkSession\n",
    "from pyspark.sql import functions as F\n",
    "\n",
    "spark = SparkSession.builder.appName(\"mwf\") \\\n",
    "    .config(\"spark.driver.memory\", \"6G\") \\\n",
    "    .config(\"spark.sql.session.timeZone\", \"UTC\") \\\n",
    "    .config(\"spark.driver.maxResultSize\", \"5G\") \\\n",
    "    .config(\"spark.sql.adaptive.enabled\", \"true\") \\\n",
    "    .config(\"spark.sql.adaptive.skewedJoin.enabled\", \"true\") \\\n",
    "    .config(\"spark.sql.cbo.enabled\", \"true\") \\\n",
    "    .config(\"spark.sql.cbo.joinReorder.enabled\", \"true\") \\\n",
    "    .config(\"spark.sql.cbo.starSchemaDetection\", \"true\") \\\n",
    "    .config(\"spark.sql.autoBroadcastJoinThreshold\", \"200MB\") \\\n",
    "    .config(\"spark.sql.statistics.histogram.enabled\", \"true\") \\\n",
    "    .config(\"spark.driver.extraJavaOptions\", \"-Duser.timezone=UTC\") \\\n",
    "    .config(\"spark.sql.execution.arrow.pyspark.enabled\", \"true\") \\\n",
    "    .getOrCreate()\n",
    "\n",
    "spark.sparkContext.setLogLevel('ERROR')  \n",
    "spark\n"
   ]
  },
  {
   "cell_type": "code",
   "execution_count": null,
   "id": "83d3ba0c-6ae6-4c2e-b9b6-2284cd61aded",
   "metadata": {},
   "outputs": [],
   "source": [
    "spark.read.parquet(\"/Users/geoheil/development/tma/dagster/SSH_DEMO/warehouse_location/bar_asset/dt=20220101/*.parquet\").show()"
   ]
  },
  {
   "cell_type": "code",
   "execution_count": null,
   "id": "533780d6-c8a0-4aff-a0d3-8504cad0841b",
   "metadata": {},
   "outputs": [],
   "source": [
    "spark.read.parquet(\"/Users/geoheil/development/tma/dagster/SSH_DEMO/warehouse_location/bar_asset\").show()"
   ]
  },
  {
   "cell_type": "code",
   "execution_count": null,
   "id": "e9f1dca0-baf1-4a2b-9f8d-c6fdc3d6220a",
   "metadata": {},
   "outputs": [],
   "source": []
  }
 ],
 "metadata": {
  "kernelspec": {
   "display_name": "Python [conda env:dagster-ssh-demo] *",
   "language": "python",
   "name": "conda-env-dagster-ssh-demo-py"
  },
  "language_info": {
   "codemirror_mode": {
    "name": "ipython",
    "version": 3
   },
   "file_extension": ".py",
   "mimetype": "text/x-python",
   "name": "python",
   "nbconvert_exporter": "python",
   "pygments_lexer": "ipython3",
   "version": "3.9.12"
  }
 },
 "nbformat": 4,
 "nbformat_minor": 5
}
